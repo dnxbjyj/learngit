{
 "cells": [
  {
   "cell_type": "markdown",
   "metadata": {},
   "source": [
    "# git学习总结系列（3）——分支管理"
   ]
  },
  {
   "cell_type": "markdown",
   "metadata": {},
   "source": [
    "本文主要介绍git分支的概念及常用的分支操作。"
   ]
  },
  {
   "cell_type": "markdown",
   "metadata": {},
   "source": [
    "## 分支的概念"
   ]
  },
  {
   "cell_type": "markdown",
   "metadata": {},
   "source": [
    "所谓分支，可以理解成一个个相互独立的工作空间，在每一个分支上的改动不会影响到其他分支的代码。git默认的分支是master分支。"
   ]
  },
  {
   "cell_type": "markdown",
   "metadata": {},
   "source": [
    "试想一下这样一个场景："
   ]
  },
  {
   "cell_type": "markdown",
   "metadata": {},
   "source": [
    "正在master分支写主干需求的代码，突然来了一个很紧急的临时需求，需要在一周之内完成。如果在master分支直接开发的话，可能会造成主干需求的代码出现问题，这个时候就可以新拉一个分支（比如叫dev），dev分支的初始代码和master分支的完全相同，这个时候就可以放心的在dev分支上开发新需求了，不用担心会影响到master分支。等到在dev分支开发完新需求并充分测试验证没问题之后，就可以合并到master分支了，合并之后就可以删掉dev分支。"
   ]
  },
  {
   "cell_type": "markdown",
   "metadata": {},
   "source": [
    "## 创建与合并分支"
   ]
  },
  {
   "cell_type": "markdown",
   "metadata": {},
   "source": [
    "* 查看当前分支：`git branch`"
   ]
  },
  {
   "cell_type": "markdown",
   "metadata": {},
   "source": [
    "会列出来所有分支，并且会在当前分支前面加上一个\"*\""
   ]
  },
  {
   "cell_type": "markdown",
   "metadata": {},
   "source": [
    "* 创建一个名为\"dev\"的分支：`git branch dev`"
   ]
  },
  {
   "cell_type": "markdown",
   "metadata": {},
   "source": [
    "* 切换到名为\"dev\"的分支：`git checkout dev`"
   ]
  },
  {
   "cell_type": "markdown",
   "metadata": {},
   "source": [
    "* 创建一个名为\"dev\"的分支并切换到dev：`git checkout -b dev`"
   ]
  },
  {
   "cell_type": "markdown",
   "metadata": {},
   "source": [
    "* 假如当前在master分支，合并dev分支到当前分支："
   ]
  }
 ],
 "metadata": {
  "kernelspec": {
   "display_name": "Python 2",
   "language": "python",
   "name": "python2"
  },
  "language_info": {
   "codemirror_mode": {
    "name": "ipython",
    "version": 2
   },
   "file_extension": ".py",
   "mimetype": "text/x-python",
   "name": "python",
   "nbconvert_exporter": "python",
   "pygments_lexer": "ipython2",
   "version": "2.7.13"
  }
 },
 "nbformat": 4,
 "nbformat_minor": 2
}
